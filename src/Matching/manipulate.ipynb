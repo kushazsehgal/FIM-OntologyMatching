{
 "cells": [
  {
   "cell_type": "code",
   "execution_count": 16,
   "metadata": {},
   "outputs": [],
   "source": [
    "import pandas as pd\n",
    "import numpy as np\n",
    "import json"
   ]
  },
  {
   "cell_type": "code",
   "execution_count": 7,
   "metadata": {},
   "outputs": [
    {
     "name": "stdout",
     "output_type": "stream",
     "text": [
      "Index(['Intent', 'Code'], dtype='object')\n"
     ]
    }
   ],
   "source": [
    "df = pd.read_csv('../data/preprocessed_test.csv')\n",
    "# print(df.head())\n",
    "df.columns = [\"Intent\",\"Code\"]\n",
    "print(df.columns)"
   ]
  },
  {
   "cell_type": "code",
   "execution_count": 13,
   "metadata": {},
   "outputs": [
    {
     "name": "stdout",
     "output_type": "stream",
     "text": [
      "69 66\n"
     ]
    }
   ],
   "source": [
    "codes = df['Code']\n",
    "unique_codes = codes.unique()\n",
    "print(len(codes),len(unique_codes)) \n",
    "code_df = pd.DataFrame(data = unique_codes,columns = [\"Code\"])\n",
    "code_df.to_csv('../data/unique_codes.csv',index=False)"
   ]
  },
  {
   "cell_type": "code",
   "execution_count": 33,
   "metadata": {},
   "outputs": [],
   "source": [
    "out_list = []\n",
    "for intent in (df['Intent'].unique()):\n",
    "    \n",
    "    df_subset = df[df['Intent'] == intent]\n",
    "    dic = {}\n",
    "    dic[\"intent\"] = intent\n",
    "    dic['relevant_inds'] = []\n",
    "    for code in df_subset['Code']:\n",
    "        index = np.where(unique_codes == code)\n",
    "        # print(index[0][0])\n",
    "        dic['relevant_inds'].append(int(index[0][0]))\n",
    "    out_list.append(dic)\n",
    "\n",
    "            \n",
    "    \n",
    "    \n",
    "    \n",
    "    "
   ]
  },
  {
   "cell_type": "code",
   "execution_count": 34,
   "metadata": {},
   "outputs": [
    {
     "name": "stdout",
     "output_type": "stream",
     "text": [
      "[{'intent': 'zip lists in python', 'relevant_inds': [0]}, {'intent': 'Find next sibling element in Python Selenium', 'relevant_inds': [1]}, {'intent': 'In Python how do index list with another list', 'relevant_inds': [2]}, {'intent': 'Python dict how to create key or append an element to key', 'relevant_inds': [3]}, {'intent': 'Finding the minimum value in numpy array and the corresponding values for the rest of that array row', 'relevant_inds': [4]}]\n"
     ]
    }
   ],
   "source": [
    "print(out_list[:5])"
   ]
  },
  {
   "cell_type": "code",
   "execution_count": 35,
   "metadata": {},
   "outputs": [],
   "source": [
    "with open('../data/intents.json', 'w') as f:\n",
    "    json.dump(out_list, f)"
   ]
  },
  {
   "cell_type": "code",
   "execution_count": 59,
   "metadata": {},
   "outputs": [
    {
     "name": "stdout",
     "output_type": "stream",
     "text": [
      "0 3\n",
      "6 3\n",
      "15 3\n",
      "22 3\n",
      "27 3\n",
      "31 3\n",
      "43 3\n",
      "49 3\n",
      "55 2\n",
      "57 3\n",
      "75 3\n",
      "79 3\n",
      "83 3\n",
      "85 3\n",
      "93 3\n",
      "95 3\n",
      "97 3\n",
      "99 3\n",
      "100 3\n",
      "103 3\n",
      "129 3\n",
      "132 3\n",
      "138 2\n",
      "159 2\n",
      "163 3\n",
      "177 1\n",
      "181 3\n",
      "183 3\n",
      "199 3\n",
      "204 3\n",
      "205 3\n",
      "219 3\n",
      "221 3\n",
      "222 3\n",
      "226 2\n",
      "227 3\n",
      "228 3\n",
      "237 3\n",
      "238 3\n",
      "239 3\n",
      "245 3\n",
      "249 3\n",
      "262 3\n",
      "268 2\n",
      "276 3\n",
      "279 3\n",
      "280 3\n",
      "283 3\n",
      "284 3\n"
     ]
    }
   ],
   "source": [
    "df = pd.read_csv('../data/stack_queries.csv')\n",
    "final_df = pd.DataFrame(columns = [\"Intent\",\"Code\"])\n",
    "intent = []\n",
    "codes = []\n",
    "for index,row in df.iterrows():\n",
    "    # print(pd.isna(row['GitHub Code 3']),row['GitHub Code 3'])\n",
    "    # break\n",
    "    count = 0\n",
    "    if pd.isna(row['StackOverflow Answer Code']) == False:\n",
    "        count += 1\n",
    "        codes.append(row['StackOverflow Answer Code'])\n",
    "    if pd.isna(row['GitHub Code 1']) == False:\n",
    "        count += 1\n",
    "        codes.append(row['GitHub Code 1'])\n",
    "    if pd.isna(row['GitHub Code 2']) ==  False:\n",
    "        count += 1\n",
    "        codes.append(row['GitHub Code 2'])\n",
    "    if pd.isna(row['GitHub Code 3']) == False:\n",
    "        count += 1\n",
    "        codes.append(row['GitHub Code 3'])\n",
    "    if(count <4):\n",
    "        print(index,count)\n",
    "    while(count):\n",
    "        count -= 1 \n",
    "        intent.append(row['Question'])\n",
    " \n",
    "\n",
    "    "
   ]
  },
  {
   "cell_type": "code",
   "execution_count": 60,
   "metadata": {},
   "outputs": [
    {
     "data": {
      "text/html": [
       "<div>\n",
       "<style scoped>\n",
       "    .dataframe tbody tr th:only-of-type {\n",
       "        vertical-align: middle;\n",
       "    }\n",
       "\n",
       "    .dataframe tbody tr th {\n",
       "        vertical-align: top;\n",
       "    }\n",
       "\n",
       "    .dataframe thead th {\n",
       "        text-align: right;\n",
       "    }\n",
       "</style>\n",
       "<table border=\"1\" class=\"dataframe\">\n",
       "  <thead>\n",
       "    <tr style=\"text-align: right;\">\n",
       "      <th></th>\n",
       "      <th>Intent</th>\n",
       "      <th>Code</th>\n",
       "    </tr>\n",
       "  </thead>\n",
       "  <tbody>\n",
       "    <tr>\n",
       "      <th>0</th>\n",
       "      <td>Close/hide the Android Soft Keyboard</td>\n",
       "      <td>View view = this.getCurrentFocus();\\nif (view ...</td>\n",
       "    </tr>\n",
       "    <tr>\n",
       "      <th>1</th>\n",
       "      <td>Close/hide the Android Soft Keyboard</td>\n",
       "      <td>private void HideSoftKeyboard(){\\n        ...</td>\n",
       "    </tr>\n",
       "    <tr>\n",
       "      <th>2</th>\n",
       "      <td>Close/hide the Android Soft Keyboard</td>\n",
       "      <td>private void hideKeyboard() {\\n  View view = ...</td>\n",
       "    </tr>\n",
       "    <tr>\n",
       "      <th>3</th>\n",
       "      <td>How to get the build/version number of your An...</td>\n",
       "      <td>try {\\n  PackageInfo pInfo = this.getPackageMa...</td>\n",
       "    </tr>\n",
       "    <tr>\n",
       "      <th>4</th>\n",
       "      <td>How to get the build/version number of your An...</td>\n",
       "      <td>public String getVersion(){\\n        try {...</td>\n",
       "    </tr>\n",
       "  </tbody>\n",
       "</table>\n",
       "</div>"
      ],
      "text/plain": [
       "                                              Intent  \\\n",
       "0               Close/hide the Android Soft Keyboard   \n",
       "1               Close/hide the Android Soft Keyboard   \n",
       "2               Close/hide the Android Soft Keyboard   \n",
       "3  How to get the build/version number of your An...   \n",
       "4  How to get the build/version number of your An...   \n",
       "\n",
       "                                                Code  \n",
       "0  View view = this.getCurrentFocus();\\nif (view ...  \n",
       "1      private void HideSoftKeyboard(){\\n        ...  \n",
       "2   private void hideKeyboard() {\\n  View view = ...  \n",
       "3  try {\\n  PackageInfo pInfo = this.getPackageMa...  \n",
       "4      public String getVersion(){\\n        try {...  "
      ]
     },
     "execution_count": 60,
     "metadata": {},
     "output_type": "execute_result"
    }
   ],
   "source": [
    "final_df['Intent'] = intent\n",
    "final_df['Code'] = codes \n",
    "final_df.head()  "
   ]
  },
  {
   "cell_type": "code",
   "execution_count": 62,
   "metadata": {},
   "outputs": [],
   "source": [
    "final_df.to_csv('../data/stack_Intent_Code.csv',index  = False)"
   ]
  },
  {
   "cell_type": "code",
   "execution_count": null,
   "metadata": {},
   "outputs": [],
   "source": []
  }
 ],
 "metadata": {
  "interpreter": {
   "hash": "6fc63885946654ad8a4e80b14cc7cafc6c566c2d4b2a7270ea4a7e3060eb0efb"
  },
  "kernelspec": {
   "display_name": "Python 3.9.12 ('base')",
   "language": "python",
   "name": "python3"
  },
  "language_info": {
   "codemirror_mode": {
    "name": "ipython",
    "version": 3
   },
   "file_extension": ".py",
   "mimetype": "text/x-python",
   "name": "python",
   "nbconvert_exporter": "python",
   "pygments_lexer": "ipython3",
   "version": "3.9.12"
  },
  "orig_nbformat": 4
 },
 "nbformat": 4,
 "nbformat_minor": 2
}
